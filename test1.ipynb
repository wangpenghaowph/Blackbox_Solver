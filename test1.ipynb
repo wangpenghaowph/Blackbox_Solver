{
 "cells": [
  {
   "cell_type": "code",
   "execution_count": 16,
   "metadata": {},
   "outputs": [
    {
     "ename": "NameError",
     "evalue": "name 'Solve_Subproblem' is not defined",
     "output_type": "error",
     "traceback": [
      "\u001b[0;31m---------------------------------------------------------------------------\u001b[0m",
      "\u001b[0;31mNameError\u001b[0m                                 Traceback (most recent call last)",
      "Cell \u001b[0;32mIn[16], line 13\u001b[0m\n\u001b[1;32m     11\u001b[0m importlib\u001b[38;5;241m.\u001b[39mreload(History_Manager)\n\u001b[1;32m     12\u001b[0m importlib\u001b[38;5;241m.\u001b[39mreload(Collect_Direction)\n\u001b[0;32m---> 13\u001b[0m importlib\u001b[38;5;241m.\u001b[39mreload(\u001b[43mSolve_Subproblem\u001b[49m)\n",
      "\u001b[0;31mNameError\u001b[0m: name 'Solve_Subproblem' is not defined"
     ]
    }
   ],
   "source": [
    "import ARS_main\n",
    "import History_Manager\n",
    "import Collect_Direction\n",
    "import Solve_Subproblem\n",
    "from ARS_main import ARS\n",
    "import numpy as np\n",
    "# reload ARS using importlib.reload\n",
    "import importlib\n",
    "importlib.reload(ARS_main)\n",
    "importlib.reload(History_Manager)\n",
    "importlib.reload(Collect_Direction)\n",
    "importlib.reload(Solve_Subproblem)\n"
   ]
  },
  {
   "cell_type": "code",
   "execution_count": 13,
   "metadata": {},
   "outputs": [],
   "source": [
    "x0=[0.,0.,1.,1]\n",
    "def obj_fun(x):\n",
    "    return x[0]**2+x[1]**2+x[2]**2\n",
    "prob = ARS(x0,obj_fun,None,None,None)"
   ]
  },
  {
   "cell_type": "code",
   "execution_count": 14,
   "metadata": {},
   "outputs": [
    {
     "ename": "TypeError",
     "evalue": "'module' object is not callable",
     "output_type": "error",
     "traceback": [
      "\u001b[0;31m---------------------------------------------------------------------------\u001b[0m",
      "\u001b[0;31mTypeError\u001b[0m                                 Traceback (most recent call last)",
      "Cell \u001b[0;32mIn[14], line 1\u001b[0m\n\u001b[0;32m----> 1\u001b[0m a,b \u001b[38;5;241m=\u001b[39m \u001b[43mprob\u001b[49m\u001b[38;5;241;43m.\u001b[39;49m\u001b[43mARS_run\u001b[49m\u001b[43m(\u001b[49m\u001b[43m)\u001b[49m\n",
      "File \u001b[0;32m~/SOLcode/Adaptive_Random_Subspace/Solver/Blackbox_Solver/ARS_main.py:133\u001b[0m, in \u001b[0;36mARS.ARS_run\u001b[0;34m(self)\u001b[0m\n\u001b[1;32m    129\u001b[0m \u001b[38;5;28mself\u001b[39m\u001b[38;5;241m.\u001b[39mhistory\u001b[38;5;241m.\u001b[39mrecord_params(\u001b[38;5;28mself\u001b[39m\u001b[38;5;241m.\u001b[39miter, \u001b[38;5;28mself\u001b[39m\u001b[38;5;241m.\u001b[39mtr_radius, \u001b[38;5;28mself\u001b[39m\u001b[38;5;241m.\u001b[39mgrad_stepsize, \u001b[38;5;28mself\u001b[39m\u001b[38;5;241m.\u001b[39mds_stepsize)\n\u001b[1;32m    131\u001b[0m directions \u001b[38;5;241m=\u001b[39m \u001b[38;5;28mself\u001b[39m\u001b[38;5;241m.\u001b[39mcollect_direction(\u001b[38;5;28mself\u001b[39m\u001b[38;5;241m.\u001b[39mx, \u001b[38;5;28mself\u001b[39m\u001b[38;5;241m.\u001b[39miter, \u001b[38;5;28mself\u001b[39m\u001b[38;5;241m.\u001b[39mnum_directions, \u001b[38;5;28mself\u001b[39m\u001b[38;5;241m.\u001b[39mhistory)\n\u001b[0;32m--> 133\u001b[0m \u001b[38;5;28;43mself\u001b[39;49m\u001b[38;5;241;43m.\u001b[39;49m\u001b[43msolve_subproblem\u001b[49m\u001b[43m(\u001b[49m\u001b[38;5;28;43mself\u001b[39;49m\u001b[38;5;241;43m.\u001b[39;49m\u001b[43mx\u001b[49m\u001b[43m,\u001b[49m\u001b[43m \u001b[49m\u001b[38;5;28;43mself\u001b[39;49m\u001b[38;5;241;43m.\u001b[39;49m\u001b[43mobj_fun\u001b[49m\u001b[43m,\u001b[49m\u001b[43m \u001b[49m\u001b[43mdirections\u001b[49m\u001b[43m,\u001b[49m\u001b[43m \u001b[49m\u001b[38;5;28;43mself\u001b[39;49m\u001b[38;5;241;43m.\u001b[39;49m\u001b[43mmethod_solve_subproblem\u001b[49m\u001b[43m,\u001b[49m\u001b[43m \u001b[49m\u001b[38;5;28;43mself\u001b[39;49m\u001b[38;5;241;43m.\u001b[39;49m\u001b[43miter\u001b[49m\u001b[43m,\u001b[49m\u001b[43m \u001b[49m\u001b[38;5;28;43mself\u001b[39;49m\u001b[38;5;241;43m.\u001b[39;49m\u001b[43mhistory\u001b[49m\u001b[43m)\u001b[49m\n\u001b[1;32m    135\u001b[0m best_entry \u001b[38;5;241m=\u001b[39m \u001b[38;5;28mself\u001b[39m\u001b[38;5;241m.\u001b[39mhistory\u001b[38;5;241m.\u001b[39mfind_best_per_iter(\u001b[38;5;28mself\u001b[39m\u001b[38;5;241m.\u001b[39miter)\n\u001b[1;32m    136\u001b[0m \u001b[38;5;66;03m# update ds stepsize\u001b[39;00m\n",
      "File \u001b[0;32m~/SOLcode/Adaptive_Random_Subspace/Solver/Blackbox_Solver/Solve_Subproblem.py:14\u001b[0m, in \u001b[0;36mSolve_Subproblem\u001b[0;34m(x, obj_fun, directions, method_solve_subproblem, iter, history)\u001b[0m\n\u001b[1;32m      9\u001b[0m     alpha_0 \u001b[38;5;241m=\u001b[39m np\u001b[38;5;241m.\u001b[39mzeros(\u001b[38;5;28mlen\u001b[39m(directions))\n\u001b[1;32m     10\u001b[0m     options \u001b[38;5;241m=\u001b[39m {\n\u001b[1;32m     11\u001b[0m         \u001b[38;5;124m'\u001b[39m\u001b[38;5;124mmaxiter\u001b[39m\u001b[38;5;124m'\u001b[39m: \u001b[38;5;241m20\u001b[39m,\n\u001b[1;32m     12\u001b[0m         \u001b[38;5;124m'\u001b[39m\u001b[38;5;124mmaxfev\u001b[39m\u001b[38;5;124m'\u001b[39m: \u001b[38;5;241m200\u001b[39m,\n\u001b[1;32m     13\u001b[0m     }\n\u001b[0;32m---> 14\u001b[0m     result \u001b[38;5;241m=\u001b[39m \u001b[43mpdfo\u001b[49m\u001b[43m(\u001b[49m\u001b[43msub_func\u001b[49m\u001b[43m,\u001b[49m\u001b[43m \u001b[49m\u001b[43malpha_0\u001b[49m\u001b[43m,\u001b[49m\u001b[43m \u001b[49m\u001b[43mmethod\u001b[49m\u001b[38;5;241;43m=\u001b[39;49m\u001b[38;5;124;43m'\u001b[39;49m\u001b[38;5;124;43mnewuoa\u001b[39;49m\u001b[38;5;124;43m'\u001b[39;49m\u001b[43m,\u001b[49m\u001b[43m \u001b[49m\u001b[43moptions\u001b[49m\u001b[38;5;241;43m=\u001b[39;49m\u001b[43moptions\u001b[49m\u001b[43m)\u001b[49m\n\u001b[1;32m     15\u001b[0m     subproblem_sol \u001b[38;5;241m=\u001b[39m result\u001b[38;5;241m.\u001b[39mx\n\u001b[1;32m     16\u001b[0m \u001b[38;5;28;01melif\u001b[39;00m method_solve_subproblem[\u001b[38;5;124m'\u001b[39m\u001b[38;5;124mmethod_subproblem\u001b[39m\u001b[38;5;124m'\u001b[39m] \u001b[38;5;241m==\u001b[39m \u001b[38;5;124m'\u001b[39m\u001b[38;5;124mPDFO_Single_Round\u001b[39m\u001b[38;5;124m'\u001b[39m:\n",
      "\u001b[0;31mTypeError\u001b[0m: 'module' object is not callable"
     ]
    }
   ],
   "source": [
    "a,b = prob.ARS_run()"
   ]
  },
  {
   "cell_type": "code",
   "execution_count": 362,
   "metadata": {},
   "outputs": [
    {
     "data": {
      "text/plain": [
       "{'solution': array([1.50091030e-03, 1.06498036e-03, 7.21283004e-04, 1.35978030e+00]),\n",
       " 'Objective': 3.907164061461257e-06,\n",
       " 'niter': 50,\n",
       " 'nfev': 4751,\n",
       " 'ngrad': 0,\n",
       " 'status': 1,\n",
       " 'fhist': [0.7511162432250464,\n",
       "  0.7511137048283654,\n",
       "  0.5802868539138551,\n",
       "  0.5719444115097089,\n",
       "  0.5719352327112671,\n",
       "  0.5498421725689301,\n",
       "  0.5498251869424947,\n",
       "  0.5277673083612358,\n",
       "  0.5276175125375165,\n",
       "  0.5272588947253044,\n",
       "  0.5247031708132167,\n",
       "  0.5154060150422514,\n",
       "  0.5132787496575798,\n",
       "  0.5057034933013362,\n",
       "  0.48214700916183456,\n",
       "  0.4809797231845858,\n",
       "  0.48053327585023026,\n",
       "  0.4766632317729944,\n",
       "  0.47040415362644766,\n",
       "  0.466609764760981,\n",
       "  0.4561899720085082,\n",
       "  0.45237936324979233,\n",
       "  0.4458645071534362,\n",
       "  0.4413640984166342,\n",
       "  0.4307424256870453,\n",
       "  0.4214502621320241,\n",
       "  0.38424507944506875,\n",
       "  0.37994354459332774,\n",
       "  0.371505562393946,\n",
       "  0.3617657741725658,\n",
       "  0.3477137413953619,\n",
       "  0.33579288651790745,\n",
       "  0.3299534352083428,\n",
       "  0.21709675769166156,\n",
       "  0.2154880554614258,\n",
       "  0.16829164898116117,\n",
       "  0.06541239007253499,\n",
       "  0.06459799098652783,\n",
       "  0.05971666721053752,\n",
       "  0.012659112823829512,\n",
       "  0.0068717034908904046,\n",
       "  0.002829385979404164,\n",
       "  0.002022233237273238,\n",
       "  0.0009401955903580846,\n",
       "  0.0005236496913091912,\n",
       "  0.0001825519039839614,\n",
       "  4.4539102474944574e-05,\n",
       "  1.4750747666516744e-05,\n",
       "  3.9164239952649e-06,\n",
       "  3.907164061461257e-06]}"
      ]
     },
     "execution_count": 362,
     "metadata": {},
     "output_type": "execute_result"
    }
   ],
   "source": [
    "a"
   ]
  },
  {
   "cell_type": "code",
   "execution_count": 385,
   "metadata": {},
   "outputs": [
    {
     "data": {
      "text/plain": [
       "{0: {'point': array([ 0.04551701, -0.11735072,  0.97665244,  0.96492502]),\n",
       "  'objective': 0.9696929810194718,\n",
       "  'stage': 'CM'},\n",
       " 1: {'point': array([ 0.04551616, -0.11735213,  0.97665023,  0.96492525]),\n",
       "  'objective': 0.9696889123838868,\n",
       "  'stage': 'EG'},\n",
       " 2: {'point': array([ 0.04551575, -0.1173515 ,  0.97664807,  0.96492554]),\n",
       "  'objective': 0.9696845110718976,\n",
       "  'stage': 'EG'},\n",
       " 3: {'point': array([ 0.19535839, -0.10578917,  0.91592169,  0.96309819]),\n",
       "  'objective': 0.8882687895187374,\n",
       "  'stage': 'CM'},\n",
       " 4: {'point': array([-0.01703786,  0.03851604,  0.8785136 ,  1.05773412]),\n",
       "  'objective': 0.7735599252837364,\n",
       "  'stage': 'CM'},\n",
       " 5: {'point': array([0.07020143, 0.03678792, 0.82926481, 1.17580672]),\n",
       "  'objective': 0.6939617240164577,\n",
       "  'stage': 'CM'},\n",
       " 6: {'point': array([0.14567184, 0.08180294, 0.80637941, 1.18609059]),\n",
       "  'objective': 0.6781597607133237,\n",
       "  'stage': 'CM'},\n",
       " 7: {'point': array([ 0.03143217, -0.05127001,  0.78309462,  1.13204575]),\n",
       "  'objective': 0.6168537795044589,\n",
       "  'stage': 'CM'},\n",
       " 8: {'point': array([ 0.16042374, -0.01446359,  0.75997142,  1.16300437]),\n",
       "  'objective': 0.603501529674756,\n",
       "  'stage': 'CM'},\n",
       " 9: {'point': array([ 0.08474222, -0.18789825,  0.54567284,  0.73544869]),\n",
       "  'objective': 0.3402458512350442,\n",
       "  'stage': 'CM'},\n",
       " 10: {'point': array([0.05816455, 0.03871639, 0.52053004, 0.81136628]),\n",
       "  'objective': 0.27583359670773333,\n",
       "  'stage': 'CM'},\n",
       " 11: {'point': array([0.01146376, 0.01444248, 0.51990566, 0.80203944]),\n",
       "  'objective': 0.2706418987273891,\n",
       "  'stage': 'CM'},\n",
       " 12: {'point': array([0.07843079, 0.01303337, 0.45735896, 0.88764193]),\n",
       "  'objective': 0.21549847472496492,\n",
       "  'stage': 'CM'},\n",
       " 13: {'point': array([0.11525652, 0.15921366, 0.36237537, 0.96301998]),\n",
       "  'objective': 0.16994896763136177,\n",
       "  'stage': 'CM'},\n",
       " 14: {'point': array([0.16652251, 0.05183293, 0.19568284, 0.75181006]),\n",
       "  'objective': 0.06870817551415243,\n",
       "  'stage': 'CM'},\n",
       " 15: {'point': array([0.16652077, 0.05183606, 0.19565179, 0.75181688]),\n",
       "  'objective': 0.06869576620364357,\n",
       "  'stage': 'DS'},\n",
       " 16: {'point': array([ 0.05413477, -0.10709783,  0.12578903,  0.73103363]),\n",
       "  'objective': 0.030223396955390225,\n",
       "  'stage': 'CM'},\n",
       " 17: {'point': array([ 0.03059521, -0.00732335, -0.01688033,  0.85327424]),\n",
       "  'objective': 0.0012746437104432277,\n",
       "  'stage': 'CM'},\n",
       " 18: {'point': array([ 0.03143669, -0.01016558, -0.01107738,  0.84804885]),\n",
       "  'objective': 0.0012143127054545554,\n",
       "  'stage': 'CM'},\n",
       " 19: {'point': array([ 0.03124026, -0.01031653, -0.0110208 ,  0.84801782]),\n",
       "  'objective': 0.0012038426776673592,\n",
       "  'stage': 'DS'},\n",
       " 20: {'point': array([0.02238217, 0.00171505, 0.01014554, 0.86722255]),\n",
       "  'objective': 0.0006068351479849531,\n",
       "  'stage': 'CM'},\n",
       " 21: {'point': array([ 0.00617843, -0.002623  , -0.00279225,  0.89303833]),\n",
       "  'objective': 5.284975282363021e-05,\n",
       "  'stage': 'CM'},\n",
       " 22: {'point': array([ 0.00555524, -0.00227033, -0.00334323,  0.89352025]),\n",
       "  'objective': 4.7192307175167496e-05,\n",
       "  'stage': 'DS'},\n",
       " 23: {'point': array([-2.47090554e-04, -2.71206888e-03,  2.34036241e-03,  8.95243354e-01]),\n",
       "  'objective': 1.2893667539902673e-05,\n",
       "  'stage': 'CM'},\n",
       " 24: {'point': array([-3.19936280e-04, -1.75875307e-03,  2.60205265e-03,  8.95500213e-01]),\n",
       "  'objective': 9.966249567733544e-06,\n",
       "  'stage': 'DS'},\n",
       " 25: {'point': array([-1.28899645e-03, -8.02899935e-04,  1.74311570e-04,  8.93409005e-01]),\n",
       "  'objective': 2.3365446710515766e-06,\n",
       "  'stage': 'CM'},\n",
       " 26: {'point': array([-5.66224361e-04, -2.55780612e-04, -5.27385264e-04,  8.93018296e-01]),\n",
       "  'objective': 6.641689645443181e-07,\n",
       "  'stage': 'CM'},\n",
       " 27: {'point': array([-5.61937559e-04, -2.60758324e-04, -5.13971782e-04,  8.93025888e-01]),\n",
       "  'objective': 6.479357172880204e-07,\n",
       "  'stage': 'CM'}}"
      ]
     },
     "execution_count": 385,
     "metadata": {},
     "output_type": "execute_result"
    }
   ],
   "source": [
    "b.total_history[0,'EG']\n",
    "b.iter_history"
   ]
  }
 ],
 "metadata": {
  "kernelspec": {
   "display_name": "Python 3",
   "language": "python",
   "name": "python3"
  },
  "language_info": {
   "codemirror_mode": {
    "name": "ipython",
    "version": 3
   },
   "file_extension": ".py",
   "mimetype": "text/x-python",
   "name": "python",
   "nbconvert_exporter": "python",
   "pygments_lexer": "ipython3",
   "version": "3.10.12"
  }
 },
 "nbformat": 4,
 "nbformat_minor": 2
}
