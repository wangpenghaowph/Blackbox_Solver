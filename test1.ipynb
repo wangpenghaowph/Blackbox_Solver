{
 "cells": [
  {
   "cell_type": "code",
   "execution_count": 39,
   "metadata": {},
   "outputs": [
    {
     "data": {
      "text/plain": [
       "<module 'Solve_TR' from '/home/wangpenghao/SOLcode/Adaptive_Random_Subspace/Solver/Blackbox_Solver/Solve_TR.py'>"
      ]
     },
     "execution_count": 39,
     "metadata": {},
     "output_type": "execute_result"
    }
   ],
   "source": [
    "import ARS_main\n",
    "import History_Manager\n",
    "import Collect_Direction\n",
    "import Construct_Model\n",
    "import Solve_TR\n",
    "from ARS_main import ARS\n",
    "import numpy as np\n",
    "# reload ARS using importlib.reload\n",
    "import importlib\n",
    "importlib.reload(ARS_main)\n",
    "importlib.reload(History_Manager)\n",
    "importlib.reload(Collect_Direction)\n",
    "importlib.reload(Construct_Model)\n",
    "importlib.reload(Solve_TR)"
   ]
  },
  {
   "cell_type": "code",
   "execution_count": 40,
   "metadata": {},
   "outputs": [],
   "source": [
    "x0=[0.,0.,1.]\n",
    "def obj_fun(x):\n",
    "    return x[0]**2+x[1]**2+x[2]**2\n",
    "prob = ARS(x0,obj_fun,None,None,None)"
   ]
  },
  {
   "cell_type": "code",
   "execution_count": 41,
   "metadata": {},
   "outputs": [
    {
     "name": "stdout",
     "output_type": "stream",
     "text": [
      "model value at x is 0.0\n",
      "x is [0.0, 0.0, 1.0]\n",
      "tr_sol is [1, 1, 1]\n",
      "directions is [[1, 0, 0], [0, 1, 0], [0, 0, 1]]\n",
      "tr_back_sol is [1. 1. 2.], type is <class 'numpy.ndarray'>\n",
      "tr_obj is 6.0, type is <class 'numpy.float64'>\n",
      "best entry is {'point': array([0., 0., 1.]), 'objective': 1.0, 'stage': 'CM'}, type of best entry is <class 'dict'>\n",
      "best_entry is [0. 0. 1.]\n",
      "model value at x is 0.0\n",
      "x is [0. 0. 1.]\n",
      "tr_sol is [1, 1, 1]\n",
      "directions is [[1, 0, 0], [0, 1, 0], [0, 0, 1]]\n",
      "tr_back_sol is [1. 1. 2.], type is <class 'numpy.ndarray'>\n",
      "tr_obj is 6.0, type is <class 'numpy.float64'>\n",
      "best entry is {'point': array([0., 0., 1.]), 'objective': 1.0, 'stage': 'CM'}, type of best entry is <class 'dict'>\n",
      "best_entry is [0. 0. 1.]\n",
      "iter history is {0: {'point': array([0., 0., 1.]), 'objective': 1.0, 'stage': 'CM'}, 1: {'point': array([0., 0., 1.]), 'objective': 1.0, 'stage': 'CM'}}\n"
     ]
    },
    {
     "ename": "KeyError",
     "evalue": "-1",
     "output_type": "error",
     "traceback": [
      "\u001b[0;31m---------------------------------------------------------------------------\u001b[0m",
      "\u001b[0;31mKeyError\u001b[0m                                  Traceback (most recent call last)",
      "Cell \u001b[0;32mIn[41], line 1\u001b[0m\n\u001b[0;32m----> 1\u001b[0m \u001b[43mprob\u001b[49m\u001b[38;5;241;43m.\u001b[39;49m\u001b[43mARS_run\u001b[49m\u001b[43m(\u001b[49m\u001b[43m)\u001b[49m\n",
      "File \u001b[0;32m~/SOLcode/Adaptive_Random_Subspace/Solver/Blackbox_Solver/ARS_main.py:153\u001b[0m, in \u001b[0;36mARS.ARS_run\u001b[0;34m(self)\u001b[0m\n\u001b[1;32m    151\u001b[0m     \u001b[38;5;28mself\u001b[39m\u001b[38;5;241m.\u001b[39miter \u001b[38;5;241m+\u001b[39m\u001b[38;5;241m=\u001b[39m \u001b[38;5;241m1\u001b[39m\n\u001b[1;32m    152\u001b[0m \u001b[38;5;28mprint\u001b[39m(\u001b[38;5;124mf\u001b[39m\u001b[38;5;124m'\u001b[39m\u001b[38;5;124miter history is \u001b[39m\u001b[38;5;132;01m{\u001b[39;00m\u001b[38;5;28mself\u001b[39m\u001b[38;5;241m.\u001b[39mhistory\u001b[38;5;241m.\u001b[39miter_history\u001b[38;5;132;01m}\u001b[39;00m\u001b[38;5;124m'\u001b[39m)\n\u001b[0;32m--> 153\u001b[0m \u001b[38;5;28mprint\u001b[39m(\u001b[38;5;124mf\u001b[39m\u001b[38;5;124m'\u001b[39m\u001b[38;5;124mlast solution is \u001b[39m\u001b[38;5;132;01m{\u001b[39;00m\u001b[38;5;28;43mself\u001b[39;49m\u001b[38;5;241;43m.\u001b[39;49m\u001b[43mhistory\u001b[49m\u001b[38;5;241;43m.\u001b[39;49m\u001b[43miter_history\u001b[49m\u001b[43m[\u001b[49m\u001b[38;5;241;43m-\u001b[39;49m\u001b[38;5;241;43m1\u001b[39;49m\u001b[43m]\u001b[49m\u001b[38;5;132;01m}\u001b[39;00m\u001b[38;5;124m'\u001b[39m)\n\u001b[1;32m    154\u001b[0m Solution\u001b[38;5;241m=\u001b[39m{\n\u001b[1;32m    155\u001b[0m     \u001b[38;5;124m'\u001b[39m\u001b[38;5;124msolution\u001b[39m\u001b[38;5;124m'\u001b[39m: \u001b[38;5;28mself\u001b[39m\u001b[38;5;241m.\u001b[39mhistory\u001b[38;5;241m.\u001b[39miter_history[\u001b[38;5;241m-\u001b[39m\u001b[38;5;241m1\u001b[39m][\u001b[38;5;124m'\u001b[39m\u001b[38;5;124mpoint\u001b[39m\u001b[38;5;124m'\u001b[39m],\n\u001b[1;32m    156\u001b[0m     \u001b[38;5;124m'\u001b[39m\u001b[38;5;124mObjective\u001b[39m\u001b[38;5;124m'\u001b[39m: \u001b[38;5;28mself\u001b[39m\u001b[38;5;241m.\u001b[39mhistory\u001b[38;5;241m.\u001b[39miter_history[\u001b[38;5;241m-\u001b[39m\u001b[38;5;241m1\u001b[39m][\u001b[38;5;124m'\u001b[39m\u001b[38;5;124mobjective\u001b[39m\u001b[38;5;124m'\u001b[39m],\n\u001b[0;32m   (...)\u001b[0m\n\u001b[1;32m    161\u001b[0m     \u001b[38;5;124m'\u001b[39m\u001b[38;5;124mfhist\u001b[39m\u001b[38;5;124m'\u001b[39m: [\u001b[38;5;28mself\u001b[39m\u001b[38;5;241m.\u001b[39mhistory\u001b[38;5;241m.\u001b[39miter_history[i][\u001b[38;5;124m'\u001b[39m\u001b[38;5;124mobjective\u001b[39m\u001b[38;5;124m'\u001b[39m] \u001b[38;5;28;01mfor\u001b[39;00m i \u001b[38;5;129;01min\u001b[39;00m \u001b[38;5;28mrange\u001b[39m(\u001b[38;5;28mlen\u001b[39m(\u001b[38;5;28mself\u001b[39m\u001b[38;5;241m.\u001b[39mhistory\u001b[38;5;241m.\u001b[39miter_history))],\n\u001b[1;32m    162\u001b[0m }\n\u001b[1;32m    163\u001b[0m \u001b[38;5;28;01mreturn\u001b[39;00m Solution\n",
      "\u001b[0;31mKeyError\u001b[0m: -1"
     ]
    }
   ],
   "source": [
    "prob.ARS_run()"
   ]
  },
  {
   "cell_type": "code",
   "execution_count": null,
   "metadata": {},
   "outputs": [],
   "source": []
  }
 ],
 "metadata": {
  "kernelspec": {
   "display_name": "Python 3",
   "language": "python",
   "name": "python3"
  },
  "language_info": {
   "codemirror_mode": {
    "name": "ipython",
    "version": 3
   },
   "file_extension": ".py",
   "mimetype": "text/x-python",
   "name": "python",
   "nbconvert_exporter": "python",
   "pygments_lexer": "ipython3",
   "version": "3.10.12"
  }
 },
 "nbformat": 4,
 "nbformat_minor": 2
}
