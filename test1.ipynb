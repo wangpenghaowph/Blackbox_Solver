{
 "cells": [
  {
   "cell_type": "code",
   "execution_count": 24,
   "metadata": {},
   "outputs": [
    {
     "data": {
      "text/plain": [
       "<module 'Solve_TR' from '/home/wangpenghao/SOLcode/Adaptive_Random_Subspace/Solver/Blackbox_Solver/Solve_TR.py'>"
      ]
     },
     "execution_count": 24,
     "metadata": {},
     "output_type": "execute_result"
    }
   ],
   "source": [
    "import ARS_main\n",
    "import History_Manager\n",
    "import Collect_Direction\n",
    "import Construct_Model\n",
    "import Solve_TR\n",
    "from ARS_main import ARS\n",
    "import numpy as np\n",
    "# reload ARS using importlib.reload\n",
    "import importlib\n",
    "importlib.reload(ARS_main)\n",
    "importlib.reload(History_Manager)\n",
    "importlib.reload(Collect_Direction)\n",
    "importlib.reload(Construct_Model)\n",
    "importlib.reload(Solve_TR)"
   ]
  },
  {
   "cell_type": "code",
   "execution_count": 25,
   "metadata": {},
   "outputs": [],
   "source": [
    "x0=[0.,0.,1.]\n",
    "def obj_fun(x):\n",
    "    return x[0]**2+x[1]**2+x[2]**2\n",
    "prob = ARS(x0,obj_fun,None,None,None)"
   ]
  },
  {
   "cell_type": "code",
   "execution_count": 26,
   "metadata": {},
   "outputs": [
    {
     "data": {
      "text/plain": [
       "{'solution': array([0., 0., 1.]),\n",
       " 'Objective': 1.0,\n",
       " 'niter': 2,\n",
       " 'nfev': 14,\n",
       " 'ngrad': 0,\n",
       " 'status': 1,\n",
       " 'fhist': [1.0, 1.0]}"
      ]
     },
     "execution_count": 26,
     "metadata": {},
     "output_type": "execute_result"
    }
   ],
   "source": [
    "prob.ARS_run()"
   ]
  },
  {
   "cell_type": "code",
   "execution_count": null,
   "metadata": {},
   "outputs": [],
   "source": []
  }
 ],
 "metadata": {
  "kernelspec": {
   "display_name": "Python 3",
   "language": "python",
   "name": "python3"
  },
  "language_info": {
   "codemirror_mode": {
    "name": "ipython",
    "version": 3
   },
   "file_extension": ".py",
   "mimetype": "text/x-python",
   "name": "python",
   "nbconvert_exporter": "python",
   "pygments_lexer": "ipython3",
   "version": "3.10.12"
  }
 },
 "nbformat": 4,
 "nbformat_minor": 2
}
