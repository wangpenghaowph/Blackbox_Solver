{
 "cells": [
  {
   "cell_type": "code",
   "execution_count": 3,
   "metadata": {},
   "outputs": [],
   "source": [
    "import ARS_main\n",
    "import History_Manager\n",
    "import Collect_Direction\n",
    "import Solve_Subproblem\n",
    "import Solve_TR\n",
    "import Construct_Model\n",
    "from ARS_main import ARS\n",
    "from Rosen import rosenbrock\n",
    "import numpy as np\n",
    "import importlib\n",
    "importlib.reload(ARS_main)\n",
    "importlib.reload(History_Manager)\n",
    "importlib.reload(Collect_Direction)\n",
    "importlib.reload(Solve_Subproblem)\n",
    "importlib.reload(Solve_TR)\n",
    "importlib.reload(Construct_Model)\n",
    "from icecream import ic\n",
    "from pdfo import pdfo\n",
    "import pickle\n",
    "import matplotlib.pyplot as plt\n",
    "import os\n"
   ]
  },
  {
   "cell_type": "code",
   "execution_count": 4,
   "metadata": {},
   "outputs": [],
   "source": [
    "def save_data(res,algorithm_name):\n",
    "    directory = 'Compare/pkl'\n",
    "    if not os.path.exists(directory):\n",
    "        os.makedirs(directory)  # 如果目录不存在，创建它\n",
    "\n",
    "    # 文件路径，分别为数据和历史信息\n",
    "    data_file_path = os.path.join(directory, f'{algorithm_name}_result.pkl')\n",
    "    # if the file exists, do not overwrite it\n",
    "    if os.path.exists(data_file_path):\n",
    "        print(f\"Data file {data_file_path} already exists, do not overwrite it.\")\n",
    "        return\n",
    "    # 保存字典数据\n",
    "    with open(data_file_path, 'wb') as file:\n",
    "        pickle.dump(res, file)\n",
    "        \n",
    "    print(f\"Data saved to {data_file_path}\")"
   ]
  },
  {
   "cell_type": "code",
   "execution_count": 5,
   "metadata": {},
   "outputs": [
    {
     "name": "stderr",
     "output_type": "stream",
     "text": [
      "/home/wangpenghao/.local/lib/python3.10/site-packages/pdfo/_common.py:1522: Warning: pdfo: unknown option(s): maxiter; they are ignored.\n",
      "  warnings.warn(warn_message, Warning)\n"
     ]
    }
   ],
   "source": [
    "dim = 10\n",
    "PDFO_options = {\n",
    "    'solver_tol': 1e-6,\n",
    "    'max_nfev': 1e5,\n",
    "    'max_iter': 100,\n",
    "    'tr_init_radius': 1.0,\n",
    "    'tr_min_radius': 1e-5,\n",
    "    'tr_max_radius': 1e2,\n",
    "    'tr_inc': 2.0,\n",
    "    'tr_dec': 0.5,\n",
    "    'tr_acceptance_threshold': [0.1, 0.9],\n",
    "    'grad_init_stepsize': 1e-6,\n",
    "    'grad_min_stepsize': 1e-8,\n",
    "    'grad_max_stepsize': 1e-2,\n",
    "    'grad_inc': 2.0,\n",
    "    'grad_dec': 0.5,\n",
    "    'ds_init_stepsize': 1,\n",
    "    'ds_min_stepsize': 1e-5,\n",
    "    'ds_max_stepsize': 1e5,\n",
    "    'ds_inc': 2.0,\n",
    "    'ds_dec': 0.5,\n",
    "    'method_estimation_gradient': 'Centered',\n",
    "    'method_direct_search': 'Uniform',\n",
    "    'method_subproblem': 'PDFO',\n",
    "    'method_construct_model': 'Quadratic',\n",
    "    'method_solve_tr': 'Dogleg',\n",
    "    'num_directions': [1, 1, 2, 0, 0]\n",
    "}\n",
    "x0 = np.zeros(dim)\n",
    "prob = ARS(x0,rosenbrock,options=PDFO_options)\n",
    "res = prob.ARS_run()"
   ]
  },
  {
   "cell_type": "code",
   "execution_count": 6,
   "metadata": {},
   "outputs": [
    {
     "name": "stdout",
     "output_type": "stream",
     "text": [
      "Data saved to Compare/pkl/PDFO_2_result.pkl\n"
     ]
    }
   ],
   "source": [
    "algorithm_name = 'PDFO_2'\n",
    "res['algorithm_name'] = algorithm_name\n",
    "save_data(res, algorithm_name)"
   ]
  },
  {
   "cell_type": "code",
   "execution_count": null,
   "metadata": {},
   "outputs": [],
   "source": [
    "pdfo(rosenbrock, x0, method='Newuoa')"
   ]
  },
  {
   "cell_type": "code",
   "execution_count": 7,
   "metadata": {},
   "outputs": [
    {
     "name": "stdout",
     "output_type": "stream",
     "text": [
      "Data saved to Compare/pkl/PDFO_Single_2_result.pkl\n"
     ]
    }
   ],
   "source": [
    "dim = 10\n",
    "PDFO_options = {\n",
    "    'solver_tol': 1e-6,\n",
    "    'max_nfev': 1e5,\n",
    "    'max_iter': 100,\n",
    "    'tr_init_radius': 1.0,\n",
    "    'tr_min_radius': 1e-5,\n",
    "    'tr_max_radius': 1e2,\n",
    "    'tr_inc': 2.0,\n",
    "    'tr_dec': 0.5,\n",
    "    'tr_acceptance_threshold': [0.1, 0.9],\n",
    "    'grad_init_stepsize': 1e-6,\n",
    "    'grad_min_stepsize': 1e-8,\n",
    "    'grad_max_stepsize': 1e-2,\n",
    "    'grad_inc': 2.0,\n",
    "    'grad_dec': 0.5,\n",
    "    'ds_init_stepsize': 1,\n",
    "    'ds_min_stepsize': 1e-5,\n",
    "    'ds_max_stepsize': 1e5,\n",
    "    'ds_inc': 2.0,\n",
    "    'ds_dec': 0.5,\n",
    "    'method_estimation_gradient': 'Centered',\n",
    "    'method_direct_search': 'Uniform',\n",
    "    'method_subproblem': 'PDFO_Single_Round',\n",
    "    'method_construct_model': 'Quadratic',\n",
    "    'method_solve_tr': 'Dogleg',\n",
    "    'num_directions': [1, 1, 2, 0, 0]\n",
    "}\n",
    "x0 = np.zeros(dim)\n",
    "prob = ARS(x0,rosenbrock,options=PDFO_options)\n",
    "res = prob.ARS_run()\n",
    "algorithm_name = 'PDFO_Single_2'\n",
    "res['algorithm_name'] = algorithm_name\n",
    "save_data(res, algorithm_name)"
   ]
  },
  {
   "cell_type": "code",
   "execution_count": null,
   "metadata": {},
   "outputs": [],
   "source": []
  }
 ],
 "metadata": {
  "kernelspec": {
   "display_name": "Python 3",
   "language": "python",
   "name": "python3"
  },
  "language_info": {
   "codemirror_mode": {
    "name": "ipython",
    "version": 3
   },
   "file_extension": ".py",
   "mimetype": "text/x-python",
   "name": "python",
   "nbconvert_exporter": "python",
   "pygments_lexer": "ipython3",
   "version": "3.10.12"
  }
 },
 "nbformat": 4,
 "nbformat_minor": 2
}
