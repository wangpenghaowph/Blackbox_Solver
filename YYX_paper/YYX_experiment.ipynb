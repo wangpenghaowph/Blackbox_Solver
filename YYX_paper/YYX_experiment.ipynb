{
 "cells": [
  {
   "cell_type": "code",
   "execution_count": 2,
   "metadata": {},
   "outputs": [],
   "source": [
    "import pandas as pd\n",
    "import numpy as np"
   ]
  },
  {
   "cell_type": "code",
   "execution_count": 3,
   "metadata": {},
   "outputs": [
    {
     "name": "stdout",
     "output_type": "stream",
     "text": [
      "         data      n  m\n",
      "0       POWER  10000  0\n",
      "2      NONDIA   5000  0\n",
      "9    FLETCBV2   5000  0\n",
      "10    BDQRTIC   5000  0\n",
      "12   DIXMAANO   3000  0\n",
      "..        ...    ... ..\n",
      "259   LIARWHD   5000  0\n",
      "260  CHAINWOO   4000  0\n",
      "277  PENALTY3    200  0\n",
      "278  DIXMAANP   3000  0\n",
      "279    BRYBND   5000  0\n",
      "\n",
      "[62 rows x 3 columns]\n"
     ]
    }
   ],
   "source": [
    "df = pd.read_csv('../CUTEST/Loader_CUTEST/unconstrained_problems.csv')\n",
    "data_to_print = [\"ARGLINA\", \"ARGLINA4\", \"ARGLINB\", \"ARGLINC\", \"ARGTRIG\", \"ARWHEAD\", \"BDQRTIC\", \"BDQRTICP\", \"BDVALUE\", \"BROWNAL\", \"BROYDN3D\", \"BROYDN7D\", \"BRYBND\", \"CHAINWOO\", \"CHEBQUAD\", \"CHNROSNB\", \"CHPOWELLB\", \"CHPOWELLS\", \"CHROSEN\", \"COSINE\", \"CRAGGLVY\", \"CUBE\", \"CURLY10\", \"CURLY20\", \"CURLY30\", \"DIXMAANE\", \"DIXMAANF\", \"DIXMAANG\", \"DIXMAANH\", \"DIXMAANI\", \"DIXMAANJ\", \"DIXMAANK\", \"DIXMAANL\", \"DIXMAANM\", \"DIXMAANN\", \"DIXMAANO\", \"DIXMAANP\", \"DQRTIC\", \"EDENSCH\", \"ENGVAL1\", \"ERRINROS\", \"EXPSUM\", \"EXTROSNB\", \"EXTTET\", \"FIROSE\", \"FLETCBV2\", \"FLETCBV3\", \"FLETCHCR\", \"FREUROTH\", \"GENBROWN\", \"GENHUMPS\", \"GENROSE\", \"INDEF\", \"INTEGREQ\", \"LIARWHD\", \"LILIFUN3\", \"LILIFUN4\", \"MOREBV\", \"MOREBVL\", \"NCB20\", \"NCB20B\", \"NONCVXU2\", \"NONCVXUN\", \"NONDIA\", \"NONDQUAR\", \"PENALTY1\", \"PENALTY2\", \"PENALTY3\", \"PENALTY3P\", \"POWELLSG\", \"POWER\", \"ROSENBROCK\", \"SBRYBND\", \"SBRYBNDL\", \"SCHMVETT\", \"SCOSINE\", \"SCOSINEL\", \"SEROSE\", \"SINQUAD\", \"SPARSINE\", \"SPARSQUR\", \"SPMSRTLS\", \"SROSENBR\", \"STMOD\", \"TOINTGSS\", \"TOINTTRIG\", \"TQUARTIC\", \"TRIGSABS\", \"TRIGSSQS\", \"TRIROSE1\", \"TRIROSE2\", \"VARDIM\", \"WOODS\"]\n",
    "\n",
    "filtered_df = df[df['data'].isin(data_to_print)]\n",
    "print(filtered_df)\n",
    "filtered_df.to_csv('YYX_paper_testproblems.csv', index=False)"
   ]
  },
  {
   "cell_type": "code",
   "execution_count": null,
   "metadata": {},
   "outputs": [],
   "source": []
  }
 ],
 "metadata": {
  "kernelspec": {
   "display_name": "Python 3",
   "language": "python",
   "name": "python3"
  },
  "language_info": {
   "codemirror_mode": {
    "name": "ipython",
    "version": 3
   },
   "file_extension": ".py",
   "mimetype": "text/x-python",
   "name": "python",
   "nbconvert_exporter": "python",
   "pygments_lexer": "ipython3",
   "version": "3.10.12"
  }
 },
 "nbformat": 4,
 "nbformat_minor": 2
}
