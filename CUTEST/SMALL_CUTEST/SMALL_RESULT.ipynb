{
 "cells": [
  {
   "cell_type": "code",
   "execution_count": 1,
   "metadata": {},
   "outputs": [],
   "source": [
    "import sys\n",
    "from os import path\n",
    "import platform\n",
    "import os\n",
    "import pickle\n",
    "os.environ['ARCHDEFS'] = '/home/wangpenghao/cutest/archdefs/'\n",
    "os.environ['SIFDECODE'] = '/home/wangpenghao/cutest/sifdecode/'\n",
    "os.environ['MASTSIF'] = '/home/wangpenghao/cutest/mastsif/'\n",
    "os.environ['CUTEST'] = '/home/wangpenghao/cutest/cutest/'\n",
    "os.environ['MYARCH'] = 'pc64.lnx.gfo'\n",
    "import scipy\n",
    "from scipy.optimize import rosen, rosen_der, rosen_hess, NonlinearConstraint\n",
    "from scipy.optimize import minimize\n",
    "from scipy.sparse import coo_array\n",
    "import numpy as np\n",
    "import pycutest\n",
    "import pandas as pd\n",
    "import time\n",
    "import tqdm\n",
    "from pdfo import pdfo"
   ]
  },
  {
   "cell_type": "code",
   "execution_count": 2,
   "metadata": {},
   "outputs": [],
   "source": [
    "def load_data_from_pickle(filename):\n",
    "    with open(filename, 'rb') as file:\n",
    "        return pickle.load(file)"
   ]
  },
  {
   "cell_type": "code",
   "execution_count": 3,
   "metadata": {},
   "outputs": [],
   "source": [
    "# Input path\n",
    "problem_path = \"/home/wangpenghao/SOLcode/cutest/unconstrained_problems_Small.csv\"\n",
    "pdfo_direct_path = '/home/wangpenghao/SOLcode/cutest/pdfo_direct_small_res.pkl'\n",
    "pdfo_key_path = '/home/wangpenghao/SOLcode/cutest/pdfo_small_results.pkl'\n",
    "cg_direct_path = '/home/wangpenghao/SOLcode/cutest/cg_direct_small_res.pkl'\n",
    "cg_key_path = '/home/wangpenghao/SOLcode/cutest/cg_small_results.pkl'\n",
    "bfgs_direct_path = '/home/wangpenghao/SOLcode/cutest/bfgs_direct_small_res.pkl'\n",
    "bfgs_key_path = '/home/wangpenghao/SOLcode/cutest/bfgs_small_results.pkl'\n",
    "# Output path\n",
    "nfev_success_path = '/home/wangpenghao/SOLcode/cutest/SMALL_results_nfev_success.xlsx'"
   ]
  },
  {
   "cell_type": "code",
   "execution_count": 4,
   "metadata": {},
   "outputs": [
    {
     "name": "stdout",
     "output_type": "stream",
     "text": [
      "length of pdfo_direct_res: 172\n",
      "length of pdfo_res: 172\n",
      "length of cg_direct_res: 172\n",
      "length of cg_res: 172\n",
      "length of bfgs_direct_res: 172\n",
      "length of bfgs_res: 172\n"
     ]
    }
   ],
   "source": [
    "problem = pd.read_csv(problem_path)\n",
    "pdfo_direct_res = pd.DataFrame(load_data_from_pickle(pdfo_direct_path))\n",
    "pdfo_key_res = pd.DataFrame(load_data_from_pickle(pdfo_key_path))\n",
    "cg_direct_res = pd.DataFrame(load_data_from_pickle(cg_direct_path))\n",
    "cg_key_res = pd.DataFrame(load_data_from_pickle(cg_key_path))\n",
    "bfgs_direct_res = pd.DataFrame(load_data_from_pickle(bfgs_direct_path))\n",
    "bfgs_key_res = pd.DataFrame(load_data_from_pickle(bfgs_key_path))\n",
    "print(f\"length of pdfo_direct_res: {len(pdfo_direct_res)}\")\n",
    "print(f\"length of pdfo_res: {len(pdfo_key_res)}\")\n",
    "print(f\"length of cg_direct_res: {len(cg_direct_res)}\")\n",
    "print(f\"length of cg_res: {len(cg_key_res)}\")\n",
    "print(f\"length of bfgs_direct_res: {len(bfgs_direct_res)}\")\n",
    "print(f\"length of bfgs_res: {len(bfgs_key_res)}\")"
   ]
  },
  {
   "cell_type": "code",
   "execution_count": 5,
   "metadata": {},
   "outputs": [
    {
     "name": "stdout",
     "output_type": "stream",
     "text": [
      "Index(['message', 'success', 'status', 'fun', 'x', 'nfev', 'fun_history',\n",
      "       'method', 'warnings'],\n",
      "      dtype='object')\n",
      "Index(['fun', 'jac', 'nfev', 'njev', 'status', 'success', 'message', 'x',\n",
      "       'nit', 'allvecs'],\n",
      "      dtype='object')\n",
      "Index(['fun', 'jac', 'hess_inv', 'nfev', 'njev', 'status', 'success',\n",
      "       'message', 'x', 'nit', 'allvecs'],\n",
      "      dtype='object')\n",
      "Index(['Problem', 'Objective', 'Success', 'solution', 'Message', 'status',\n",
      "       'nfev', 'fhist'],\n",
      "      dtype='object')\n",
      "Index(['Problem', 'Objective', 'Success', 'solution', 'Message', 'status',\n",
      "       'nfev', 'niter'],\n",
      "      dtype='object')\n",
      "Index(['Problem', 'Objective', 'Success', 'solution', 'Message', 'status',\n",
      "       'nfev', 'niter'],\n",
      "      dtype='object')\n"
     ]
    }
   ],
   "source": [
    "print(pdfo_direct_res.columns)\n",
    "print(cg_direct_res.columns)\n",
    "print(bfgs_direct_res.columns)\n",
    "print(pdfo_key_res.columns)\n",
    "print(cg_key_res.columns)\n",
    "print(bfgs_key_res.columns)"
   ]
  },
  {
   "cell_type": "markdown",
   "metadata": {},
   "source": [
    "## Collect Key Results"
   ]
  },
  {
   "cell_type": "code",
   "execution_count": 6,
   "metadata": {},
   "outputs": [
    {
     "name": "stdout",
     "output_type": "stream",
     "text": [
      "  Problem  Dimension  Objective_pdfo  Objective_cg  Objective_bfgs  nfev_pdfo  \\\n",
      "0   AKIVA          2        6.166042      6.166042        6.166042         74   \n",
      "\n",
      "   nfev_cg  nfev_bfgs  Success_pdfo  Success_cg  Success_bfgs  niter_cg  \\\n",
      "0       92         45          True        True          True         8   \n",
      "\n",
      "   niter_bfgs  \n",
      "0          11  \n"
     ]
    }
   ],
   "source": [
    "pdfo_key_res_suffix = pdfo_key_res.add_suffix('_pdfo')\n",
    "cg_key_res_suffix = cg_key_res.add_suffix('_cg')\n",
    "bfgs_key_res_suffix = bfgs_key_res.add_suffix('_bfgs')\n",
    "# 合并DataFrame，现在不需要suffixes参数，因为列名已经是唯一的\n",
    "df_merged = pd.merge(pdfo_key_res_suffix, cg_key_res_suffix, left_on='Problem_pdfo', right_on='Problem_cg', how='outer')\n",
    "df_merged = pd.merge(df_merged, bfgs_key_res_suffix, left_on='Problem_pdfo', right_on='Problem_bfgs', how='outer')\n",
    "# 创建 df_final 并确保它是一个独立副本\n",
    "df_merged = pd.merge(df_merged, problem, left_on='Problem_pdfo', right_on='data', how='left')\n",
    "#print(df_merged.head(1))\n",
    "df_final = df_merged[['Problem_pdfo', 'n', 'Objective_pdfo', 'Objective_cg', 'Objective_bfgs', 'nfev_pdfo', 'nfev_cg', 'nfev_bfgs', 'Success_pdfo', 'Success_cg', 'Success_bfgs','niter_cg','niter_bfgs']].copy()\n",
    "df_final.rename(columns={'Problem_pdfo': 'Problem', 'n': 'Dimension'}, inplace=True)\n",
    "print(df_final.head(1))\n",
    "def highlight_min(s):\n",
    "    is_min = s == s.min()\n",
    "    return ['background-color: red' if v else '' for v in is_min]\n",
    "\n",
    "# 应用样式\n",
    "df_styled = df_final.style.apply(highlight_min, axis=1, subset=['Objective_pdfo', 'Objective_cg', 'Objective_bfgs'])\n",
    "df_styled = df_styled.format({\n",
    "    'Objective_pdfo': '{:.5e}',\n",
    "    'Objective_cg': '{:.5e}',\n",
    "    'Objective_bfgs': '{:.5e}'\n",
    "})\n",
    "with pd.ExcelWriter(nfev_success_path, engine='openpyxl') as writer:\n",
    "    df_styled.to_excel(writer, index=False)"
   ]
  },
  {
   "cell_type": "code",
   "execution_count": null,
   "metadata": {},
   "outputs": [],
   "source": []
  }
 ],
 "metadata": {
  "kernelspec": {
   "display_name": "Python 3",
   "language": "python",
   "name": "python3"
  },
  "language_info": {
   "codemirror_mode": {
    "name": "ipython",
    "version": 3
   },
   "file_extension": ".py",
   "mimetype": "text/x-python",
   "name": "python",
   "nbconvert_exporter": "python",
   "pygments_lexer": "ipython3",
   "version": "3.9.6"
  }
 },
 "nbformat": 4,
 "nbformat_minor": 2
}
